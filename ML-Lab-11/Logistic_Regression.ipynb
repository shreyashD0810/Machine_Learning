{
  "nbformat": 4,
  "nbformat_minor": 0,
  "metadata": {
    "colab": {
      "provenance": []
    },
    "kernelspec": {
      "name": "python3",
      "display_name": "Python 3"
    },
    "language_info": {
      "name": "python"
    }
  },
  "cells": [
    {
      "cell_type": "code",
      "execution_count": null,
      "metadata": {
        "id": "9jmHOYGQ60Ur"
      },
      "outputs": [],
      "source": [
        "import numpy as np\n",
        "import pandas as pd\n",
        "import matplotlib.pyplot as plt\n",
        "\n",
        "X = np.array([1., 2., 3., 4., 5.])\n",
        "y = np.array([0., 0., 0., 1., 1.])\n",
        "m = len(y)"
      ]
    },
    {
      "cell_type": "code",
      "source": [
        "def sigmoid(z):\n",
        "    return 1.0 / (1.0 + np.exp(-z))\n"
      ],
      "metadata": {
        "id": "2qPVkZTE61ED"
      },
      "execution_count": null,
      "outputs": []
    },
    {
      "cell_type": "code",
      "source": [
        "b0 = 0.0\n",
        "b1 = 0.0\n",
        "\n",
        "z = b0 + b1 * X\n",
        "h = sigmoid(z)\n",
        "\n",
        "eps = 1e-15\n",
        "\n",
        "initial_cost = -(1.0 / m) * np.sum(y * np.log(h + eps) + (1 - y) * np.log(1 - h + eps))\n",
        "\n",
        "print(\"Initial h:\", h)\n",
        "print(\"Initial cost:\", initial_cost)"
      ],
      "metadata": {
        "colab": {
          "base_uri": "https://localhost:8080/"
        },
        "id": "n6GxaiUC62zS",
        "outputId": "a357694f-b5d0-47d9-bf32-67f2838644f1"
      },
      "execution_count": null,
      "outputs": [
        {
          "output_type": "stream",
          "name": "stdout",
          "text": [
            "Initial h: [0.5 0.5 0.5 0.5 0.5]\n",
            "Initial cost: 0.6931471805599433\n"
          ]
        }
      ]
    },
    {
      "cell_type": "code",
      "source": [
        "h_minus_y = h - y\n",
        "grad_b0 = np.mean(h_minus_y)\n",
        "grad_b1 = np.mean(h_minus_y * X)\n",
        "\n",
        "print(\"grad_b0 =\", grad_b0)\n",
        "print(\"grad_b1 =\", grad_b1)"
      ],
      "metadata": {
        "colab": {
          "base_uri": "https://localhost:8080/"
        },
        "id": "SiOfMHri66fC",
        "outputId": "a8c38dd5-8c19-4981-8c7c-b15fff38022f"
      },
      "execution_count": null,
      "outputs": [
        {
          "output_type": "stream",
          "name": "stdout",
          "text": [
            "grad_b0 = 0.1\n",
            "grad_b1 = -0.3\n"
          ]
        }
      ]
    },
    {
      "cell_type": "code",
      "source": [
        "alpha = 0.1\n",
        "b0_new = b0 - alpha * grad_b0\n",
        "b1_new = b1 - alpha * grad_b1\n",
        "\n",
        "print(\"After one update: b0 =\", b0_new, \", b1 =\", b1_new)"
      ],
      "metadata": {
        "colab": {
          "base_uri": "https://localhost:8080/"
        },
        "id": "QEYlePSD68fK",
        "outputId": "1c35e13e-13c8-4ed1-defc-b64b5dcabe93"
      },
      "execution_count": null,
      "outputs": [
        {
          "output_type": "stream",
          "name": "stdout",
          "text": [
            "After one update: b0 = -0.010000000000000002 , b1 = 0.03\n"
          ]
        }
      ]
    },
    {
      "cell_type": "code",
      "source": [
        "b0, b1 = 0.0, 0.0\n",
        "n_iter = 2000\n",
        "history = []\n",
        "\n",
        "for it in range(n_iter):\n",
        "    z = b0 + b1 * X\n",
        "    h = sigmoid(z)\n",
        "    grad_b0 = np.mean(h - y)\n",
        "    grad_b1 = np.mean((h - y) * X)\n",
        "    cost = -(1.0 / m) * np.sum(y * np.log(h + eps) + (1 - y) * np.log(1 - h + eps))\n",
        "\n",
        "    history.append((it, b0, b1, cost))\n",
        "\n",
        "    b0 -= alpha * grad_b0\n",
        "    b1 -= alpha * grad_b1"
      ],
      "metadata": {
        "id": "Br3TGwdl6-ha"
      },
      "execution_count": null,
      "outputs": []
    },
    {
      "cell_type": "code",
      "source": [
        "print(\"\\nFinal parameters after {} iterations:\".format(n_iter))\n",
        "print(\"b0 =\", b0)\n",
        "print(\"b1 =\", b1)\n",
        "\n",
        "decision_boundary = -b0 / b1\n",
        "print(\"Decision boundary x =\", decision_boundary)\n",
        "\n",
        "print(\"Final cost J =\", history[-1][3])\n"
      ],
      "metadata": {
        "colab": {
          "base_uri": "https://localhost:8080/"
        },
        "id": "QgwrsMnH6_56",
        "outputId": "3b9fe312-4921-4b79-ffd6-0b7285f9f31c"
      },
      "execution_count": null,
      "outputs": [
        {
          "output_type": "stream",
          "name": "stdout",
          "text": [
            "\n",
            "Final parameters after 2000 iterations:\n",
            "b0 = -8.124229652999901\n",
            "b1 = 2.379077884857112\n",
            "Decision boundary x = 3.4148649376764073\n",
            "Final cost J = 0.1197651327339016\n"
          ]
        }
      ]
    },
    {
      "cell_type": "code",
      "source": [
        "X_plot = np.linspace(0, 6, 200)\n",
        "y_plot = sigmoid(b0 + b1 * X_plot)\n",
        "\n",
        "plt.figure(figsize=(8, 5))\n",
        "plt.scatter(X, y, label=\"Training data\")\n",
        "plt.plot(X_plot, y_plot, color='hotpink', label=\"Logistic curve\")\n",
        "plt.axhline(0.5, linestyle='--', color='black')\n",
        "plt.title(\"Logistic regression fit (manual gradient descent)\")\n",
        "plt.xlabel(\"Study hours\")\n",
        "plt.ylabel(\"P(pass)\")\n",
        "plt.grid(True)\n",
        "plt.legend()\n",
        "plt.show()\n"
      ],
      "metadata": {
        "colab": {
          "base_uri": "https://localhost:8080/",
          "height": 487
        },
        "id": "S8poIPAv7H45",
        "outputId": "b2bcf9ab-d6fc-4ecc-c222-780ce939d0d4"
      },
      "execution_count": null,
      "outputs": [
        {
          "output_type": "display_data",
          "data": {
            "text/plain": [
              "<Figure size 800x500 with 1 Axes>"
            ],
            "image/png": "[encoded data removed]"
          },
          "metadata": {}
        }
      ]
    },
    {
      "cell_type": "code",
      "source": [],
      "metadata": {
        "id": "s7HfkQfN7KxY"
      },
      "execution_count": null,
      "outputs": []
    }
  ]
}