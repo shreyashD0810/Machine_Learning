{
  "nbformat": 4,
  "nbformat_minor": 0,
  "metadata": {
    "colab": {
      "provenance": []
    },
    "kernelspec": {
      "name": "python3",
      "display_name": "Python 3"
    },
    "language_info": {
      "name": "python"
    }
  },
  "cells": [
    {
      "cell_type": "code",
      "source": [
        "import pandas as pd\n",
        "import numpy as np\n",
        "import matplotlib.pyplot as plt\n",
        "import seaborn as sns"
      ],
      "metadata": {
        "id": "Y7MVot15om-3"
      },
      "execution_count": 2,
      "outputs": []
    },
    {
      "cell_type": "code",
      "execution_count": 10,
      "metadata": {
        "id": "gF5deBJcdkjl"
      },
      "outputs": [],
      "source": [
        "df = np.array([\n",
        "    [2.5, 2.4, 1.2],\n",
        "    [0.5, 0.7, 0.3],\n",
        "    [2.2, 2.9, 1.4],\n",
        "    [1.9, 2.2, 1.1],\n",
        "    [3.1, 3.0, 1.7],\n",
        "    [2.3, 2.7, 1.5],\n",
        "    [2.0, 1.6, 0.9],\n",
        "    [1.0, 1.1, 0.4],\n",
        "    [1.5, 1.6, 0.8],\n",
        "    [1.1, 0.9, 0.2]])"
      ]
    },
    {
      "cell_type": "code",
      "source": [
        "# Standardize the data by subtracting the mean and dividing by the standard deviation.\n",
        "# This results in a new array 'df1' with zero mean and unit variance.\n",
        "df1 = (df - df.mean()) / df.std()"
      ],
      "metadata": {
        "id": "HV8P_WvMojdw"
      },
      "execution_count": 16,
      "outputs": []
    },
    {
      "cell_type": "code",
      "source": [
        "# Calculate the covariance matrix of the standardized data 'df1'.\n",
        "# The transpose (.T) is used because np.cov expects variables as rows by default.\n",
        "cov = np.cov(df1.T)"
      ],
      "metadata": {
        "id": "UVw4Q7EUpFR2"
      },
      "execution_count": 17,
      "outputs": []
    },
    {
      "cell_type": "code",
      "source": [
        "# Calculate the eigenvalues and eigenvectors of the covariance matrix.\n",
        "# eig_v contains the eigenvalues, and eig_vec contains the corresponding eigenvectors.\n",
        "eig_v, eig_vec = np.linalg.eig(cov)"
      ],
      "metadata": {
        "id": "L4-aH1c1pIlF"
      },
      "execution_count": 18,
      "outputs": []
    },
    {
      "cell_type": "code",
      "source": [
        "# Sort the eigenvalues in descending order and rearrange the eigenvectors\n",
        "# accordingly. This is done to identify the principal components in order\n",
        "# of their explained variance.\n",
        "sorted = np.argsort(eig_v)[::-1]\n",
        "eig_v = eig_v[sorted]\n",
        "eig_vec = eig_vec[:, sorted]"
      ],
      "metadata": {
        "id": "Q0nngsrwrZe2"
      },
      "execution_count": 19,
      "outputs": []
    },
    {
      "cell_type": "code",
      "source": [
        "# Select the first two eigenvectors (corresponding to the two largest eigenvalues)\n",
        "# to form the subspace for dimensionality reduction.\n",
        "eig_vec_sub = eig_vec[:, :2]"
      ],
      "metadata": {
        "id": "qIgwwbpsr9qd"
      },
      "execution_count": 20,
      "outputs": []
    },
    {
      "cell_type": "code",
      "source": [
        "# Project the standardized data onto the subspace spanned by the top 2 eigenvectors.\n",
        "# This performs the dimensionality reduction, creating the 'reduced' data.\n",
        "reduced = df1.dot(eig_vec_sub)\n",
        "# Create a pandas DataFrame from the reduced data with column names 'PC1' and 'PC2'.\n",
        "red_df = pd.DataFrame(reduced, columns=['PC1', 'PC2'])"
      ],
      "metadata": {
        "id": "rZCoQInjsDYl"
      },
      "execution_count": 23,
      "outputs": []
    },
    {
      "cell_type": "code",
      "source": [
        "# Print the resulting DataFrame containing the 2D PCA projection.\n",
        "print(red_df)"
      ],
      "metadata": {
        "colab": {
          "base_uri": "https://localhost:8080/"
        },
        "id": "7QiWwvdtsL3t",
        "outputId": "9888a5a3-94a8-4e11-eed1-1c1d901a95bc"
      },
      "execution_count": 24,
      "outputs": [
        {
          "output_type": "stream",
          "name": "stdout",
          "text": [
            "        PC1       PC2\n",
            "0  1.221040  0.402793\n",
            "1 -2.135781 -0.063562\n",
            "2  1.507634 -0.294226\n",
            "3  0.554877 -0.003403\n",
            "4  2.418709  0.416297\n",
            "5  1.469286 -0.083515\n",
            "6  0.035763  0.572824\n",
            "7 -1.380533  0.104747\n",
            "8 -0.390932  0.120529\n",
            "9 -1.571094  0.396987\n"
          ]
        }
      ]
    },
    {
      "cell_type": "code",
      "source": [
        "# Create a figure and axes for the plot.\n",
        "plt.figure(figsize=(8, 6))\n",
        "# Create a scatter plot of the reduced data, showing PC1 on the x-axis and PC2 on the y-axis.\n",
        "# The points are colored blue with a black edge.\n",
        "plt.scatter(red_df['PC1'], red_df['PC2'], color = 'blue', edgecolor = 'k')\n",
        "# Set the title of the plot.\n",
        "plt.title('2D PCA projection')\n",
        "# Set the label for the x-axis.\n",
        "plt.xlabel('PC1')\n",
        "# Set the label for the y-axis.\n",
        "plt.ylabel('PC2')\n",
        "# Add a grid to the plot for better readability.\n",
        "plt.grid(True)\n",
        "# Display the plot.\n",
        "plt.show()"
      ],
      "metadata": {
        "colab": {
          "base_uri": "https://localhost:8080/",
          "height": 564
        },
        "id": "CA1vC1CUuaW9",
        "outputId": "ae0c4ca4-e4e0-4bc3-8b3f-f3b82c940c59"
      },
      "execution_count": 27,
      "outputs": [
        {
          "output_type": "display_data",
          "data": {
            "text/plain": [
              "<Figure size 800x600 with 1 Axes>"
            ],
            "image/png": "[encoded data removed]"
          },
          "metadata": {}
        }
      ]
    },
    {
      "cell_type": "code",
      "source": [],
      "metadata": {
        "id": "wcn1Q9BHvSt1"
      },
      "execution_count": null,
      "outputs": []
    }
  ]
}