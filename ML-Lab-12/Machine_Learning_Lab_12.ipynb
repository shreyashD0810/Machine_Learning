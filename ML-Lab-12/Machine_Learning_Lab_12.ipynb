{
  "nbformat": 4,
  "nbformat_minor": 0,
  "metadata": {
    "colab": {
      "provenance": []
    },
    "kernelspec": {
      "name": "python3",
      "display_name": "Python 3"
    },
    "language_info": {
      "name": "python"
    }
  },
  "cells": [
    {
      "cell_type": "code",
      "source": [
        "import numpy as np\n",
        "\n",
        "x = np.array([1, 2, 3, 4, 5])\n",
        "y = np.array([0, 0, 0, 1, 1])\n",
        "\n",
        "def hT(z):\n",
        "    return 1 / (1 + np.exp(-z))\n",
        "\n",
        "print(\"x: \", x)\n",
        "print(\"y: \", y)\n"
      ],
      "metadata": {
        "colab": {
          "base_uri": "https://localhost:8080/"
        },
        "id": "Nmn8zZ-G0m1I",
        "outputId": "3baaf792-4a9c-48c0-efd8-c3eefe638b2c"
      },
      "execution_count": null,
      "outputs": [
        {
          "output_type": "stream",
          "name": "stdout",
          "text": [
            "x:  [1 2 3 4 5]\n",
            "y:  [0 0 0 1 1]\n"
          ]
        }
      ]
    },
    {
      "cell_type": "code",
      "source": [
        "b0 = 0.0\n",
        "b1 = 0.0\n",
        "\n",
        "z = b0 + b1 * x\n",
        "p = hT(z)\n",
        "\n",
        "print(\"z:\", z)\n",
        "print(\"H Theta:\", p)\n"
      ],
      "metadata": {
        "colab": {
          "base_uri": "https://localhost:8080/"
        },
        "id": "c1m8wkTH0xPR",
        "outputId": "26c3feae-e719-4695-9cb9-13caf7f7e7bf"
      },
      "execution_count": null,
      "outputs": [
        {
          "output_type": "stream",
          "name": "stdout",
          "text": [
            "z: [0. 0. 0. 0. 0.]\n",
            "H Theta: [0.5 0.5 0.5 0.5 0.5]\n"
          ]
        }
      ]
    },
    {
      "cell_type": "code",
      "source": [
        "JB = 0\n",
        "m = 5\n",
        "for i in range(m):\n",
        "    JB += (y[i] * np.log10(p[i]) + (1 - y[i]) * np.log10(1 - p[i]))\n",
        "    print(f\"pass : {i}, y : {y[i]}, hT : {p[i]}, y[i] * np.log(p[i]) : {y[i] * np.log(p[i]):.2f}, (1 - y[i]) * np.log(1 - p[i]) : {(1 - y[i]) * np.log(1 - p[i]):.2f}\")\n",
        "\n",
        "JB = -(1/m) * JB\n",
        "print(f\"JB : {JB}\")"
      ],
      "metadata": {
        "colab": {
          "base_uri": "https://localhost:8080/"
        },
        "id": "wuh74MSf2r_B",
        "outputId": "620d07f4-1069-4c65-9952-bf8d51a419fe"
      },
      "execution_count": null,
      "outputs": [
        {
          "output_type": "stream",
          "name": "stdout",
          "text": [
            "pass : 0, y : 0, hT : 0.5, y[i] * np.log(p[i]) : -0.00, (1 - y[i]) * np.log(1 - p[i]) : -0.69\n",
            "pass : 1, y : 0, hT : 0.5, y[i] * np.log(p[i]) : -0.00, (1 - y[i]) * np.log(1 - p[i]) : -0.69\n",
            "pass : 2, y : 0, hT : 0.5, y[i] * np.log(p[i]) : -0.00, (1 - y[i]) * np.log(1 - p[i]) : -0.69\n",
            "pass : 3, y : 1, hT : 0.5, y[i] * np.log(p[i]) : -0.69, (1 - y[i]) * np.log(1 - p[i]) : -0.00\n",
            "pass : 4, y : 1, hT : 0.5, y[i] * np.log(p[i]) : -0.69, (1 - y[i]) * np.log(1 - p[i]) : -0.00\n",
            "JB : 0.30102999566398125\n"
          ]
        }
      ]
    },
    {
      "cell_type": "code",
      "source": [
        "GB0 = 0\n",
        "GB1 = 0\n",
        "for i in range(m):\n",
        "  GB0 += (p[i]-y[i])\n",
        "\n",
        "GB0 = (1/m) * GB0\n",
        "\n",
        "for i in range(m):\n",
        "  GB1 += (p[i]-y[i])*x[i]\n",
        "\n",
        "GB1 = (1/m) * GB1\n",
        "\n",
        "print(f\"GB0 : {GB0:.4f}, GB1 : {GB1:.4f}\")"
      ],
      "metadata": {
        "colab": {
          "base_uri": "https://localhost:8080/"
        },
        "id": "ieZciJww5xmH",
        "outputId": "fada4fdf-60d6-4df6-adb4-bec228c6c52c"
      },
      "execution_count": null,
      "outputs": [
        {
          "output_type": "stream",
          "name": "stdout",
          "text": [
            "GB0 : 0.1000, GB1 : -0.3000\n"
          ]
        }
      ]
    },
    {
      "cell_type": "code",
      "metadata": {
        "colab": {
          "base_uri": "https://localhost:8080/",
          "height": 472
        },
        "id": "f675ad4b",
        "outputId": "528a6832-a178-4aa0-8aff-12b3f0e4aebb"
      },
      "source": [
        "import matplotlib.pyplot as plt\n",
        "\n",
        "plt.scatter(x, y, label='Original Data', color='blue')\n",
        "\n",
        "x_curve = np.linspace(x.min(), x.max(), 100)\n",
        "z_curve = b0 + b1 * x_curve\n",
        "p_curve = hT(z_curve)\n",
        "plt.plot(x_curve, p_curve, label='Learned Probability Curve', color='red')\n",
        "\n",
        "plt.xlabel('x')\n",
        "plt.ylabel('Probability')\n",
        "plt.title('Logistic Regression')\n",
        "plt.legend()\n",
        "plt.grid(True)\n",
        "plt.show()"
      ],
      "execution_count": null,
      "outputs": [
        {
          "output_type": "display_data",
          "data": {
            "text/plain": [
              "<Figure size 640x480 with 1 Axes>"
            ],
            "image/png": "[encoded data removed]"
          },
          "metadata": {}
        }
      ]
    },
    {
      "cell_type": "code",
      "source": [
        "A = 0.1\n",
        "b0 = b0 - A*GB0\n",
        "b1 = b1 - A*GB1\n",
        "print(f\"B0 updated : {b0}, B1 updated : {b1}\")"
      ],
      "metadata": {
        "colab": {
          "base_uri": "https://localhost:8080/"
        },
        "id": "CJoe-Zyx-HXK",
        "outputId": "7d35cc23-0eaa-470c-b03e-c5532e53d3d7"
      },
      "execution_count": null,
      "outputs": [
        {
          "output_type": "stream",
          "name": "stdout",
          "text": [
            "B0 updated : -0.010000000000000002, B1 updated : 0.030000000000000006\n"
          ]
        }
      ]
    },
    {
      "cell_type": "code",
      "source": [
        "z = b0 + b1 * x\n",
        "p = hT(z)\n",
        "\n",
        "print(\"z:\", z)\n",
        "print(\"H Theta:\", p)"
      ],
      "metadata": {
        "colab": {
          "base_uri": "https://localhost:8080/"
        },
        "id": "oBLMay7P_qWZ",
        "outputId": "6e4eb95a-5914-4d10-9248-c8a7c69a190f"
      },
      "execution_count": null,
      "outputs": [
        {
          "output_type": "stream",
          "name": "stdout",
          "text": [
            "z: [0.02 0.05 0.08 0.11 0.14]\n",
            "H Theta: [0.50499983 0.5124974  0.51998934 0.5274723  0.53494295]\n"
          ]
        }
      ]
    },
    {
      "cell_type": "code",
      "source": [
        "JB = 0\n",
        "m = 5\n",
        "for i in range(m):\n",
        "    JB += (y[i] * np.log10(p[i]) + (1 - y[i]) * np.log10(1 - p[i]))\n",
        "    print(f\"pass : {i}, y : {y[i]}, hT : {p[i]:.4f}, y[i] * np.log(p[i]) : {y[i] * np.log(p[i]):.2f}, (1 - y[i]) * np.log(1 - p[i]) : {(1 - y[i]) * np.log(1 - p[i]):.2f}\")\n",
        "\n",
        "JB = -(1/m) * JB\n",
        "print(f\"JB : {JB:.4f}\")"
      ],
      "metadata": {
        "colab": {
          "base_uri": "https://localhost:8080/"
        },
        "id": "hl_Zmx_6A2ro",
        "outputId": "772ff7a6-df29-4948-9d09-c08ff6ea6cae"
      },
      "execution_count": null,
      "outputs": [
        {
          "output_type": "stream",
          "name": "stdout",
          "text": [
            "pass : 0, y : 0, hT : 0.5050, y[i] * np.log(p[i]) : -0.00, (1 - y[i]) * np.log(1 - p[i]) : -0.70\n",
            "pass : 1, y : 0, hT : 0.5125, y[i] * np.log(p[i]) : -0.00, (1 - y[i]) * np.log(1 - p[i]) : -0.72\n",
            "pass : 2, y : 0, hT : 0.5200, y[i] * np.log(p[i]) : -0.00, (1 - y[i]) * np.log(1 - p[i]) : -0.73\n",
            "pass : 3, y : 1, hT : 0.5275, y[i] * np.log(p[i]) : -0.64, (1 - y[i]) * np.log(1 - p[i]) : -0.00\n",
            "pass : 4, y : 1, hT : 0.5349, y[i] * np.log(p[i]) : -0.63, (1 - y[i]) * np.log(1 - p[i]) : -0.00\n",
            "JB : 0.2971\n"
          ]
        }
      ]
    },
    {
      "cell_type": "code",
      "source": [],
      "metadata": {
        "id": "TaFWC4M9Dn1C"
      },
      "execution_count": null,
      "outputs": []
    }
  ]
}